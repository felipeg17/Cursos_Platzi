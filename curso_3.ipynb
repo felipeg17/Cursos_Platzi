{
 "cells": [
  {
   "cell_type": "markdown",
   "metadata": {},
   "source": [
    "### Compilado vs Interpretado\n",
    "**Compilación** Convertir un lenguaje de alto nivel a lenguaje de máquina\n",
    "**Interperetación** Tomar resultado itnermedio y converit a leguaje de máquina\n",
    "\n",
    "*python* es un lenguaje interpretado, priemro se genera un bytecode que luego va a un interprete (máquina virtual) que convierte a lenguaje de máquina.\n",
    "\n",
    "### Tipados\n",
    "\n",
    "**Estático** Tiene tipos de datos al momento de declarar\n",
    "**Dinámico** No precisa de declaración del tipo de dato\n",
    "\n",
    "**Fuerte** No permite la combinación de tipos de datos al usar operadores\n",
    "**Débil** Permite la combinación de tipos de datos (realiza un proceso de casteo interno)\n"
   ]
  },
  {
   "cell_type": "markdown",
   "metadata": {},
   "source": [
    "**Módulo** Cualquier archivo de python \n",
    "\n",
    "**Paquete** Colección de módulos de python. Se utiliza la palabra clave __init__.py\n",
    "\n",
    "<!-- ![](pics/estructura.png) -->\n",
    "<img src=\"pics/estructura.png\" width=\"640\" height=\"480\">\n"
   ]
  },
  {
   "cell_type": "markdown",
   "metadata": {},
   "source": [
    "### Tipado en Python\n",
    "**Variables**\n",
    "\n",
    "nom_var: *type* = value\n",
    "\n",
    "(Requiere python>3.6)\n",
    "\n",
    "**Funciones**\n",
    "\n",
    "def *func* (var: *type*) -> *type*:"
   ]
  },
  {
   "cell_type": "code",
   "execution_count": 2,
   "metadata": {},
   "outputs": [
    {
     "name": "stdout",
     "output_type": "stream",
     "text": [
      "5\n"
     ]
    }
   ],
   "source": [
    "num1: int = 5\n",
    "print(num1)"
   ]
  },
  {
   "cell_type": "code",
   "execution_count": 7,
   "metadata": {},
   "outputs": [
    {
     "name": "stdout",
     "output_type": "stream",
     "text": [
      "[{'lat': 7}]\n"
     ]
    }
   ],
   "source": [
    "from typing import Dict, List, Tuple\n",
    "pos: List[int] = [1,2,3,4,5] # Lista ints\n",
    "users: Dict[str, int] = {'arg':1,'mex':2,'col':3}\n",
    "nums: Tuple[int, float] = (1, 0.5)\n",
    "coordType = List[Dict[str, Tuple[int]]] # Se puede declarar el tipo\n",
    "coors = coordType = [{'lat':(7)}] # Luego definir la var\n",
    "print(coors)\n"
   ]
  },
  {
   "cell_type": "markdown",
   "metadata": {},
   "source": [
    "**mypy**\n",
    "\n",
    "mypy <archivo.py> --check-untyped-errors"
   ]
  },
  {
   "cell_type": "code",
   "execution_count": 19,
   "metadata": {},
   "outputs": [],
   "source": [
    "def is_palin(string: str) -> bool:\n",
    "    string = string.replace(\" \",\"\").lower()\n",
    "    return string[::-1] == string"
   ]
  },
  {
   "cell_type": "code",
   "execution_count": 28,
   "metadata": {},
   "outputs": [],
   "source": [
    "def is_prime(num: int) -> bool:\n",
    "    if (num <= 1):\n",
    "        return False\n",
    "    # Check from 2 to sqrt(n)\n",
    "    for i in range(2, int(num**(0.5))+1):\n",
    "        if (num % i == 0):\n",
    "            return False\n",
    "    return True"
   ]
  },
  {
   "cell_type": "code",
   "execution_count": 23,
   "metadata": {},
   "outputs": [
    {
     "name": "stdout",
     "output_type": "stream",
     "text": [
      "True\n"
     ]
    }
   ],
   "source": [
    "print(is_palin('oso'))"
   ]
  },
  {
   "cell_type": "code",
   "execution_count": 31,
   "metadata": {},
   "outputs": [
    {
     "name": "stdout",
     "output_type": "stream",
     "text": [
      "True\n"
     ]
    }
   ],
   "source": [
    "print(is_prime(17))"
   ]
  },
  {
   "cell_type": "markdown",
   "metadata": {},
   "source": [
    "### Closures\n",
    "- Deben incluir una nested function\n",
    "- Se debe referenciar datos de la función de scope superior\n",
    "- Se debe retornar la función nested"
   ]
  },
  {
   "cell_type": "code",
   "execution_count": 32,
   "metadata": {},
   "outputs": [],
   "source": [
    "def power(x):\n",
    "    def exponente(n):\n",
    "        return x**n\n",
    "    return exponente"
   ]
  },
  {
   "cell_type": "code",
   "execution_count": 33,
   "metadata": {},
   "outputs": [
    {
     "name": "stdout",
     "output_type": "stream",
     "text": [
      "4\n",
      "9\n"
     ]
    }
   ],
   "source": [
    "func_power_two = power(2)\n",
    "func_power_three = power(3)\n",
    "print(func_power_two(2))\n",
    "print(func_power_three(2))"
   ]
  },
  {
   "cell_type": "code",
   "execution_count": 36,
   "metadata": {},
   "outputs": [],
   "source": [
    "def veces(numero: int):\n",
    "    def rep(palabra: str): \n",
    "        print(numero*palabra)\n",
    "    return rep"
   ]
  },
  {
   "cell_type": "code",
   "execution_count": 38,
   "metadata": {},
   "outputs": [
    {
     "name": "stdout",
     "output_type": "stream",
     "text": [
      "HolaHola\n",
      "FelipeFelipeFelipe\n"
     ]
    }
   ],
   "source": [
    "rep_dos = veces(2)\n",
    "rep_tres = veces(3)\n",
    "rep_dos('Hola')\n",
    "rep_tres('Felipe')"
   ]
  },
  {
   "cell_type": "code",
   "execution_count": 43,
   "metadata": {},
   "outputs": [],
   "source": [
    "def make_division_by(n):\n",
    "    def divisor(x):\n",
    "        return x//n\n",
    "    return divisor"
   ]
  },
  {
   "cell_type": "code",
   "execution_count": 44,
   "metadata": {},
   "outputs": [
    {
     "name": "stdout",
     "output_type": "stream",
     "text": [
      "6\n"
     ]
    }
   ],
   "source": [
    "div_by_3 = make_division_by(3)\n",
    "print(div_by_3(18))"
   ]
  },
  {
   "cell_type": "markdown",
   "metadata": {},
   "source": [
    "### Decoradores\n",
    "Función que recibe una funcion como parametro y retorna el *wrapper* con algo adicional.\n",
    "\n",
    "En esencia es un closure que recibe una función como parámetro para agregar algo (e.g.funcionalidad)."
   ]
  },
  {
   "cell_type": "code",
   "execution_count": 45,
   "metadata": {},
   "outputs": [],
   "source": [
    "def mayus(func):\n",
    "    def envoltura(texto):\n",
    "        return func(texto).upper()\n",
    "    return envoltura\n",
    "\n",
    "def mensaje(nombre):\n",
    "    return f'{nombre}, recibió mensaje'"
   ]
  },
  {
   "cell_type": "code",
   "execution_count": 161,
   "metadata": {},
   "outputs": [],
   "source": [
    "def mayus(fn):\n",
    "    def envoltura(*args):\n",
    "        return fn(args[0]).upper()\n",
    "    return envoltura\n",
    "\n",
    "def mensaje(nombre):\n",
    "    return f'{nombre}, recibió mensaje'"
   ]
  },
  {
   "cell_type": "code",
   "execution_count": 167,
   "metadata": {},
   "outputs": [
    {
     "name": "stdout",
     "output_type": "stream",
     "text": [
      "FELIPE, RECIBIÓ MENSAJE\n",
      "Daniel, recibió mensaje\n"
     ]
    }
   ],
   "source": [
    "mensaje_mayus = mayus(mensaje)\n",
    "print(mensaje_mayus('Felipe'))\n",
    "print(mensaje('Daniel'))"
   ]
  },
  {
   "cell_type": "markdown",
   "metadata": {},
   "source": [
    "Decorador con *sugar syntax*"
   ]
  },
  {
   "cell_type": "code",
   "execution_count": 157,
   "metadata": {},
   "outputs": [],
   "source": [
    "@mayus\n",
    "def mensaje(nombre):\n",
    "    return f'{nombre}, recibió mensaje'"
   ]
  },
  {
   "cell_type": "code",
   "execution_count": 168,
   "metadata": {},
   "outputs": [
    {
     "name": "stdout",
     "output_type": "stream",
     "text": [
      "Felipe, recibió mensaje\n"
     ]
    }
   ],
   "source": [
    "print(mensaje('Felipe'))"
   ]
  },
  {
   "cell_type": "code",
   "execution_count": 67,
   "metadata": {},
   "outputs": [],
   "source": [
    "from datetime import datetime\n",
    "\n",
    "def exec_time(func):\n",
    "    def wrapper(*args, **kargs):\n",
    "        time_init = datetime.now()\n",
    "        func(*args, **kargs)\n",
    "        time_fin = datetime.now()\n",
    "        time_elapsed = time_fin - time_init\n",
    "        print(time_elapsed.total_seconds())\n",
    "    return wrapper\n",
    "\n",
    "@exec_time\n",
    "def rand_func():\n",
    "    for _ in range(1,10000000):\n",
    "        pass\n",
    "\n",
    "@exec_time\n",
    "def saludar(nombre='Felipe'):\n",
    "    print('Hola '+nombre)"
   ]
  },
  {
   "cell_type": "code",
   "execution_count": 69,
   "metadata": {},
   "outputs": [
    {
     "name": "stdout",
     "output_type": "stream",
     "text": [
      "0.13603\n",
      "Hola Terry\n",
      "5e-06\n"
     ]
    }
   ],
   "source": [
    "rand_func()\n",
    "saludar('Terry')"
   ]
  },
  {
   "cell_type": "code",
   "execution_count": 151,
   "metadata": {},
   "outputs": [
    {
     "name": "stdout",
     "output_type": "stream",
     "text": [
      "<class 'int'>\n",
      "<class 'int'>\n",
      "<class 'int'>\n",
      "()\n"
     ]
    },
    {
     "data": {
      "text/plain": [
       "6"
      ]
     },
     "execution_count": 151,
     "metadata": {},
     "output_type": "execute_result"
    }
   ],
   "source": [
    "def var_params(func):\n",
    "    def wrapper(*args):\n",
    "        for arg in args:\n",
    "            print(type(arg))\n",
    "        func()\n",
    "        return sum(args)\n",
    "    return wrapper\n",
    "\n",
    "@ var_params\n",
    "def simple_sum(*args):\n",
    "    print(args)\n",
    "\n",
    "simple_sum(1,2,3)"
   ]
  },
  {
   "cell_type": "code",
   "execution_count": 146,
   "metadata": {},
   "outputs": [
    {
     "data": {
      "text/plain": [
       "'<b>Hello</b>'"
      ]
     },
     "execution_count": 146,
     "metadata": {},
     "output_type": "execute_result"
    }
   ],
   "source": [
    "def make_bold(fn):\n",
    "    def wrapper():\n",
    "        return '<b>'+fn()+'</b>'\n",
    "    return wrapper\n",
    "\n",
    "\n",
    "@make_bold\n",
    "def say():\n",
    "    return 'Hello'\n",
    "\n",
    "say()"
   ]
  },
  {
   "cell_type": "markdown",
   "metadata": {},
   "source": [
    "### Iteradores\n",
    "\n",
    "Python requiere un iterador -> Internamente convierte a *iter*\n",
    "\n",
    "Iterables ocupan *menos* memoria, porque definen una funcion para calcular los elementos del iterable, esto es, se necesita un método __iter__ y otro __next__ de esta manera se puede definir el elemento actual y calcular el siguiente.\n",
    "\n",
    "Haciendo un simil con imagenes, formatos como jpg y rgb almacenan los valores de cada pixel, mientras vectores como svg o eps definen una funcion para calcular el valor de cada pixel.\n"
   ]
  },
  {
   "cell_type": "code",
   "execution_count": 180,
   "metadata": {},
   "outputs": [
    {
     "name": "stdout",
     "output_type": "stream",
     "text": [
      "[10, 11, 12, 13, 14, 15]\n",
      "10\n",
      "11\n",
      "12\n",
      "13\n",
      "14\n",
      "15\n"
     ]
    }
   ],
   "source": [
    "lista = [i for i in range(10,16)]\n",
    "print(lista)\n",
    "# Casting\n",
    "itera = iter(lista) \n",
    "\n",
    "# Forma general de un ciclo for en python\n",
    "while True:\n",
    "    try: print(next(itera))\n",
    "    except StopIteration:\n",
    "        break\n",
    "\n"
   ]
  },
  {
   "cell_type": "code",
   "execution_count": 14,
   "metadata": {},
   "outputs": [],
   "source": [
    "class FiboIter():\n",
    "    def __init__(self, maxIter=None, maxNum= None):\n",
    "        self.maxIter = maxIter\n",
    "        self.maxNum = maxNum\n",
    "\n",
    "    def __iter__(self):\n",
    "        self.num1 = 0\n",
    "        self.num2 = 1\n",
    "        self.counter = 0\n",
    "        return self\n",
    "\n",
    "    def __next__(self):\n",
    "        if self.counter == 0:\n",
    "            self.counter += 1\n",
    "            return self.num1\n",
    "        elif self.counter == 1:\n",
    "            self.counter += 1\n",
    "            return self.num1 + self.num2\n",
    "        else:\n",
    "            self.aux = self.num1 + self.num2\n",
    "            if not self.maxIter == None:\n",
    "                if self.counter <= self.maxIter:\n",
    "                    self.num1 = self.num2\n",
    "                    self.num2 = self.aux\n",
    "                    self.counter += 1\n",
    "                    return self.aux\n",
    "                else: raise StopIteration\n",
    "            elif not self.maxNum == None:\n",
    "                if  self.aux <= self.maxNum:\n",
    "                    self.num1 = self.num2\n",
    "                    self.num2 = self.aux\n",
    "                    self.counter += 1\n",
    "                    return self.aux\n",
    "                else: raise StopIteration\n",
    "            else:\n",
    "                raise StopIteration"
   ]
  },
  {
   "cell_type": "code",
   "execution_count": 19,
   "metadata": {},
   "outputs": [
    {
     "name": "stdout",
     "output_type": "stream",
     "text": [
      "0\n",
      "1\n",
      "1\n",
      "2\n",
      "3\n",
      "5\n",
      "8\n",
      "13\n",
      "21\n",
      "34\n",
      "55\n",
      "89\n",
      "144\n",
      "233\n",
      "377\n"
     ]
    }
   ],
   "source": [
    "fibo = FiboIter(maxNum=500)\n",
    "for element in fibo:\n",
    "    print(element)\n"
   ]
  },
  {
   "cell_type": "markdown",
   "metadata": {},
   "source": [
    "***Generador\n",
    "\n",
    "Es una función que guarda su estado de ejecución.\n",
    "\n",
    "Usando la palabra clave *yield* se retorna algo y se guarda el punto de ejecución para el siguiente llamado, para esto se requiere llamar la función con *next()*."
   ]
  },
  {
   "cell_type": "code",
   "execution_count": 29,
   "metadata": {},
   "outputs": [
    {
     "name": "stdout",
     "output_type": "stream",
     "text": [
      "0\n",
      "1\n",
      "1\n",
      "2\n",
      "3\n",
      "5\n",
      "8\n"
     ]
    }
   ],
   "source": [
    "import time\n",
    "\n",
    "def fibo_gen(maxIter=None, maxNum= None):\n",
    "    num1 = 0\n",
    "    num2 = 1 \n",
    "    counter = 0\n",
    "    while True:\n",
    "        if counter == 0:\n",
    "            counter += 1\n",
    "            yield num1\n",
    "        elif counter == 1:\n",
    "            counter += 1\n",
    "            yield num2\n",
    "        else:\n",
    "            aux = num1 + num2\n",
    "            if not maxIter == None:\n",
    "                if counter <= maxIter:\n",
    "                    num1, num2 = num2, aux\n",
    "                    counter += 1\n",
    "                    yield num2 \n",
    "                else: break\n",
    "            elif not maxNum == None:\n",
    "                if  aux <= maxNum:\n",
    "                    num1, num2 = num2, aux\n",
    "                    counter += 1\n",
    "                    yield num2 \n",
    "                else: break\n",
    "            else: break\n",
    "\n",
    "fibo = fibo_gen(maxNum=10)\n",
    "try:\n",
    "    for n in fibo:\n",
    "        print(n)\n",
    "        time.sleep(0.1)\n",
    "except: pass"
   ]
  },
  {
   "cell_type": "markdown",
   "metadata": {},
   "source": [
    "### Sets/Conjunto\n",
    "\n",
    "Colección desordenada de elementos unicos e inmutables.\n",
    "\n",
    "Se definen con {}. Al no utilizar *key:* se diferencia de un diccionario.\n",
    "\n",
    "Se utiliza el constructor *set()* para crear un set vacío.\n",
    "\n",
    "*set.add()* -> Agrega un elemento\n",
    "\n",
    "*set.update()* -> Agrega multiples elementos\n",
    "\n",
    "*set.discard()* -> Permite borrar un elemento existente o inexistente\n",
    "\n",
    "*set.remove()* -> Permite borrar un elemento existente\n",
    "\n",
    "*set.pop()* -> Borra aleatoriamente un elemento del set"
   ]
  },
  {
   "cell_type": "code",
   "execution_count": 30,
   "metadata": {},
   "outputs": [
    {
     "name": "stdout",
     "output_type": "stream",
     "text": [
      "{(1, 2), 3, 'cadena'}\n"
     ]
    }
   ],
   "source": [
    "set1 = {3, (1,2), 'cadena'}\n",
    "print(set1) # Python ordena a su manera el set -> Importante desordenado"
   ]
  },
  {
   "cell_type": "markdown",
   "metadata": {},
   "source": [
    "#### Operaciones de sets\n",
    "- Unión: |\n",
    "- Intersección: &\n",
    "- Diferencia: - (No es una operación conmutativa)\n",
    "- Diferencia simetrica: ^ (operador opuesto a la intersección)"
   ]
  },
  {
   "cell_type": "code",
   "execution_count": 32,
   "metadata": {},
   "outputs": [
    {
     "name": "stdout",
     "output_type": "stream",
     "text": [
      "[1, 1, 2, 3, 4, 4, 4, 4]\n",
      "[1, 2, 3, 4]\n"
     ]
    }
   ],
   "source": [
    "def delDuplicates(lista):\n",
    "    return set(lista)\n",
    "\n",
    "listaDuplicados = [1,1,2,3,4,4,4,4]\n",
    "print(listaDuplicados)\n",
    "print(list(delDuplicates(listaDuplicados)))"
   ]
  },
  {
   "cell_type": "markdown",
   "metadata": {},
   "source": [
    "### Manejo de fechas\n",
    "\n",
    "**datetime**  "
   ]
  },
  {
   "cell_type": "code",
   "execution_count": 53,
   "metadata": {},
   "outputs": [
    {
     "name": "stdout",
     "output_type": "stream",
     "text": [
      "2022-08-06\n",
      "8\n",
      "6\n",
      "06-08-2022\n"
     ]
    }
   ],
   "source": [
    "from datetime import datetime\n",
    "\n",
    "ahora = datetime.now()\n",
    "hoy = datetime.today()\n",
    "print(hoy.date())\n",
    "print(hoy.month)\n",
    "print(hoy.day)\n",
    "print(hoy.strftime('%d-%m-%Y'))"
   ]
  },
  {
   "cell_type": "code",
   "execution_count": 54,
   "metadata": {},
   "outputs": [
    {
     "name": "stdout",
     "output_type": "stream",
     "text": [
      "2022-08-06 22:35:19.617775-05:00\n"
     ]
    }
   ],
   "source": [
    "from datetime import datetime\n",
    "import pytz\n",
    "\n",
    "bogota_tz = pytz.timezone('America/Bogota')\n",
    "bogota_date = datetime.now(bogota_tz)\n",
    "print(bogota_date)"
   ]
  },
  {
   "cell_type": "code",
   "execution_count": 1,
   "metadata": {},
   "outputs": [
    {
     "name": "stdout",
     "output_type": "stream",
     "text": [
      "0\n"
     ]
    }
   ],
   "source": [
    "import numpy as np\n",
    "arr = np.array([13, 6, 3, 5, 10])\n",
    "print(np.argmax(arr))\n"
   ]
  },
  {
   "cell_type": "code",
   "execution_count": 2,
   "metadata": {},
   "outputs": [
    {
     "data": {
      "text/plain": [
       "array([[13],\n",
       "       [ 6],\n",
       "       [ 3],\n",
       "       [ 5],\n",
       "       [10]])"
      ]
     },
     "execution_count": 2,
     "metadata": {},
     "output_type": "execute_result"
    }
   ],
   "source": [
    "np.expand_dims(arr,1)"
   ]
  },
  {
   "cell_type": "code",
   "execution_count": 7,
   "metadata": {},
   "outputs": [
    {
     "data": {
      "text/plain": [
       "array([ 0.        ,  0.52631579,  1.05263158,  1.57894737,  2.10526316,\n",
       "        2.63157895,  3.15789474,  3.68421053,  4.21052632,  4.73684211,\n",
       "        5.26315789,  5.78947368,  6.31578947,  6.84210526,  7.36842105,\n",
       "        7.89473684,  8.42105263,  8.94736842,  9.47368421, 10.        ])"
      ]
     },
     "execution_count": 7,
     "metadata": {},
     "output_type": "execute_result"
    }
   ],
   "source": [
    "np.linspace(0,10,20)"
   ]
  },
  {
   "cell_type": "code",
   "execution_count": 15,
   "metadata": {},
   "outputs": [
    {
     "data": {
      "text/html": [
       "<div>\n",
       "<style scoped>\n",
       "    .dataframe tbody tr th:only-of-type {\n",
       "        vertical-align: middle;\n",
       "    }\n",
       "\n",
       "    .dataframe tbody tr th {\n",
       "        vertical-align: top;\n",
       "    }\n",
       "\n",
       "    .dataframe thead th {\n",
       "        text-align: right;\n",
       "    }\n",
       "</style>\n",
       "<table border=\"1\" class=\"dataframe\">\n",
       "  <thead>\n",
       "    <tr style=\"text-align: right;\">\n",
       "      <th></th>\n",
       "      <th>Name</th>\n",
       "      <th>Author</th>\n",
       "    </tr>\n",
       "  </thead>\n",
       "  <tbody>\n",
       "    <tr>\n",
       "      <th>0</th>\n",
       "      <td>F</td>\n",
       "      <td>F</td>\n",
       "    </tr>\n",
       "    <tr>\n",
       "      <th>1</th>\n",
       "      <td>T</td>\n",
       "      <td>T</td>\n",
       "    </tr>\n",
       "  </tbody>\n",
       "</table>\n",
       "</div>"
      ],
      "text/plain": [
       "  Name Author\n",
       "0    F      F\n",
       "1    T      T"
      ]
     },
     "execution_count": 15,
     "metadata": {},
     "output_type": "execute_result"
    }
   ],
   "source": [
    "import pandas as pd\n",
    "df = pd.DataFrame({'Author':['F', 'T', 'D'], 'Name':['F', 'T', 'D']})\n",
    "df.loc[0:1,['Name', 'Author']]"
   ]
  },
  {
   "cell_type": "markdown",
   "metadata": {},
   "source": []
  }
 ],
 "metadata": {
  "kernelspec": {
   "display_name": "Python 3.8.10 64-bit",
   "language": "python",
   "name": "python3"
  },
  "language_info": {
   "codemirror_mode": {
    "name": "ipython",
    "version": 3
   },
   "file_extension": ".py",
   "mimetype": "text/x-python",
   "name": "python",
   "nbconvert_exporter": "python",
   "pygments_lexer": "ipython3",
   "version": "3.8.10"
  },
  "orig_nbformat": 4,
  "vscode": {
   "interpreter": {
    "hash": "e7370f93d1d0cde622a1f8e1c04877d8463912d04d973331ad4851f04de6915a"
   }
  }
 },
 "nbformat": 4,
 "nbformat_minor": 2
}
