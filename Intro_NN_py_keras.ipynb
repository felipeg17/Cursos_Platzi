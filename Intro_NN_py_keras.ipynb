{
 "cells": [
  {
   "cell_type": "markdown",
   "metadata": {},
   "source": [
    "## Intro NN con python y keras"
   ]
  },
  {
   "cell_type": "markdown",
   "metadata": {},
   "source": [
    "**Keras** - API para conectar *backends* de machine learning\n",
    "\n",
    "**backends** - Frameworks para ML: Pythorch, Tensorflow, Theano\n",
    "\n",
    "Enlaces interesantes:\n",
    "https://adamharley.com/\n",
    "https://adamharley.com/nn_vis/"
   ]
  },
  {
   "cell_type": "code",
   "execution_count": 1,
   "metadata": {},
   "outputs": [],
   "source": [
    "# Dataset de numeros\n",
    "# https://keras.io/api/datasets/mnist/\n",
    "\n",
    "import numpy as np\n",
    "from matplotlib import pyplot as plt\n",
    "from keras import layers, models\n",
    "from tensorflow.keras.utils import to_categorical\n",
    "from keras.datasets import mnist\n"
   ]
  },
  {
   "cell_type": "code",
   "execution_count": 4,
   "metadata": {},
   "outputs": [
    {
     "name": "stdout",
     "output_type": "stream",
     "text": [
      "Downloading data from https://storage.googleapis.com/tensorflow/tf-keras-datasets/mnist.npz\n",
      "11493376/11490434 [==============================] - 1s 0us/step\n",
      "11501568/11490434 [==============================] - 1s 0us/step\n"
     ]
    }
   ],
   "source": [
    "(train_data, train_labels), (test_data, test_labels) = mnist.load_data()"
   ]
  },
  {
   "cell_type": "code",
   "execution_count": 11,
   "metadata": {},
   "outputs": [
    {
     "data": {
      "text/plain": [
       "(60000, 28, 28)"
      ]
     },
     "execution_count": 11,
     "metadata": {},
     "output_type": "execute_result"
    }
   ],
   "source": [
    "train_data.shape"
   ]
  },
  {
   "cell_type": "code",
   "execution_count": 9,
   "metadata": {},
   "outputs": [
    {
     "data": {
      "text/plain": [
       "<matplotlib.image.AxesImage at 0x7fb549c1c070>"
      ]
     },
     "execution_count": 9,
     "metadata": {},
     "output_type": "execute_result"
    },
    {
     "data": {
      "image/png": "[encoded data removed]",
      "text/plain": [
       "<Figure size 432x288 with 1 Axes>"
      ]
     },
     "metadata": {
      "needs_background": "light"
     },
     "output_type": "display_data"
    }
   ],
   "source": [
    "plt.imshow(train_data[1],cmap='gray')"
   ]
  },
  {
   "cell_type": "code",
   "execution_count": 10,
   "metadata": {},
   "outputs": [
    {
     "data": {
      "text/plain": [
       "0"
      ]
     },
     "execution_count": 10,
     "metadata": {},
     "output_type": "execute_result"
    }
   ],
   "source": [
    "train_labels[1]"
   ]
  },
  {
   "cell_type": "markdown",
   "metadata": {},
   "source": [
    "Primera capa: 512 neuronas cuya entrada son las imagenes de 28x28\n",
    "\n",
    "Segunda capa: 10 neuronas de salida, son 10 categorias (numeros del 0 a 9)"
   ]
  },
  {
   "cell_type": "code",
   "execution_count": 14,
   "metadata": {},
   "outputs": [],
   "source": [
    "model = models.Sequential()\n",
    "model.add(layers.Dense(512, activation='relu', input_shape=(28*28,)))\n",
    "model.add(layers.Dense(10, activation='softmax'))"
   ]
  },
  {
   "cell_type": "code",
   "execution_count": 15,
   "metadata": {},
   "outputs": [],
   "source": [
    "model.compile(optimizer='rmsprop', loss='categorical_crossentropy', metrics='accuracy')"
   ]
  },
  {
   "cell_type": "code",
   "execution_count": 16,
   "metadata": {},
   "outputs": [
    {
     "name": "stdout",
     "output_type": "stream",
     "text": [
      "Model: \"sequential_2\"\n",
      "_________________________________________________________________\n",
      " Layer (type)                Output Shape              Param #   \n",
      "=================================================================\n",
      " dense_2 (Dense)             (None, 512)               401920    \n",
      "                                                                 \n",
      " dense_3 (Dense)             (None, 10)                5130      \n",
      "                                                                 \n",
      "=================================================================\n",
      "Total params: 407,050\n",
      "Trainable params: 407,050\n",
      "Non-trainable params: 0\n",
      "_________________________________________________________________\n"
     ]
    }
   ],
   "source": [
    "model.summary()"
   ]
  },
  {
   "cell_type": "markdown",
   "metadata": {},
   "source": [
    "Es necesario arreglar los datos para entrenar la red:\n",
    "- Fully connected requiere que las matrices de iamgenes se organicen como vectores \n",
    "- Se normalizan los datos, en pixeles es sencillo ya que van de 0 a 255\n",
    "- Los labels de salida se pasan de variable categorica a vector de salida e.g. '5' -> [0 0 0 0 0 1 0 0 0 0]"
   ]
  },
  {
   "cell_type": "code",
   "execution_count": 25,
   "metadata": {},
   "outputs": [],
   "source": [
    "# Los datos de entrada quedan como una matriz de m (samples) x n*n datos (imagen de 28x28)\n",
    "# Datos de entrenamiento\n",
    "train_reshaped = train_data.reshape((train_data.shape[0],train_data.shape[1]*train_data.shape[2])) \n",
    "train_norm = train_reshaped.astype(float)/255 # 0 - 255 to 0 - 1\n",
    "\n",
    "# Datos de prueba\n",
    "test_reshaped = test_data.reshape((test_data.shape[0],test_data.shape[1]*test_data.shape[2])) \n",
    "test_norm = test_reshaped.astype(float)/255 \n"
   ]
  },
  {
   "cell_type": "code",
   "execution_count": 27,
   "metadata": {},
   "outputs": [],
   "source": [
    "train_output = to_categorical(train_labels)\n",
    "test_output = to_categorical(test_labels)"
   ]
  },
  {
   "cell_type": "code",
   "execution_count": 28,
   "metadata": {},
   "outputs": [
    {
     "data": {
      "text/plain": [
       "array([0., 0., 0., 0., 0., 1., 0., 0., 0., 0.], dtype=float32)"
      ]
     },
     "execution_count": 28,
     "metadata": {},
     "output_type": "execute_result"
    }
   ],
   "source": [
    "train_output[0]"
   ]
  },
  {
   "cell_type": "markdown",
   "metadata": {},
   "source": [
    "**Entrenamiento de la red:**\n",
    "\n",
    "Se utilizan los datos de entrenamiento normalizados y los labels de salida. \n",
    "\n",
    "Parametros:\n",
    "- epochs: Se ajsutan los pesos de la red por cada corrida, en este caso 400k, la idea es que se obtengan los valores que al tener x1 en la entrada se produzca y1 a la salida. Dado que la métrica es 'accuracy' se mide porcentaje de éxito tiene el modelo al predecir un valor. Entre mayor sea el número de epochs se espera que suba la precisión.\n",
    "- batch_size:\n"
   ]
  },
  {
   "cell_type": "code",
   "execution_count": 32,
   "metadata": {},
   "outputs": [
    {
     "name": "stdout",
     "output_type": "stream",
     "text": [
      "Epoch 1/5\n",
      "469/469 [==============================] - 1s 3ms/step - loss: 2.7621e-04 - accuracy: 1.0000\n",
      "Epoch 2/5\n",
      "469/469 [==============================] - 1s 3ms/step - loss: 3.5584e-04 - accuracy: 0.9998\n",
      "Epoch 3/5\n",
      "469/469 [==============================] - 1s 3ms/step - loss: 1.2176e-04 - accuracy: 1.0000\n",
      "Epoch 4/5\n",
      "469/469 [==============================] - 1s 3ms/step - loss: 2.2138e-04 - accuracy: 1.0000\n",
      "Epoch 5/5\n",
      "469/469 [==============================] - 1s 3ms/step - loss: 8.6494e-05 - accuracy: 1.0000\n"
     ]
    },
    {
     "data": {
      "text/plain": [
       "<keras.callbacks.History at 0x7fb4bc036040>"
      ]
     },
     "execution_count": 32,
     "metadata": {},
     "output_type": "execute_result"
    }
   ],
   "source": [
    "model.fit(train_norm, train_output, epochs=5, batch_size=128)"
   ]
  },
  {
   "cell_type": "code",
   "execution_count": 33,
   "metadata": {},
   "outputs": [
    {
     "name": "stdout",
     "output_type": "stream",
     "text": [
      "313/313 [==============================] - 0s 611us/step - loss: 0.1112 - accuracy: 0.9830\n"
     ]
    },
    {
     "data": {
      "text/plain": [
       "[0.11123989522457123, 0.9829999804496765]"
      ]
     },
     "execution_count": 33,
     "metadata": {},
     "output_type": "execute_result"
    }
   ],
   "source": [
    "model.evaluate(test_norm, test_output)"
   ]
  },
  {
   "cell_type": "markdown",
   "metadata": {},
   "source": [
    "-----------------------------------------------------------------------------------------------------------"
   ]
  },
  {
   "cell_type": "markdown",
   "metadata": {},
   "source": [
    "#### Funciones de activación\n",
    "\n",
    "Umbral: \n",
    "$f(x)= 1 \\ si \\ x\\geq 0,\\ 0 \\ si\\ x\\leq0 $\n",
    "</br>\n",
    "\n",
    "sg:\n",
    "$f(x)= 1 \\ si \\ x\\geq 0,\\ -1 \\ si\\ x\\leq0 $\n",
    "</br>\n",
    "\n",
    "Sigmoide:\n",
    "$f(x)=\\frac{1}{1+e^{-x}}$\n",
    "</br>\n",
    "\n",
    "tanh:\n",
    "$f(x)=\\frac{e^{x}+e^{-x}}{e^{x}-e^{-x}}$\n",
    "</br>\n",
    "\n",
    "reLU:\n",
    "$f(x)= x \\ si \\ x\\geq 0,\\ 0 \\ si\\ x\\leq0$\n"
   ]
  },
  {
   "cell_type": "code",
   "execution_count": 36,
   "metadata": {},
   "outputs": [],
   "source": [
    "def sigmoid(x):\n",
    "    return (1)/(1+np.exp(-x))"
   ]
  },
  {
   "cell_type": "code",
   "execution_count": 56,
   "metadata": {},
   "outputs": [],
   "source": [
    "# Funcion definida a trozos\n",
    "# np.piecewise(x,[x<0, x>=0],[0,1])\n",
    "def step(x):\n",
    "    return (x>=0).astype('float')"
   ]
  },
  {
   "cell_type": "code",
   "execution_count": 61,
   "metadata": {},
   "outputs": [],
   "source": [
    "def relu(x):\n",
    "    return (x+abs(x))/2"
   ]
  },
  {
   "cell_type": "code",
   "execution_count": 68,
   "metadata": {},
   "outputs": [],
   "source": [
    "def relu2(x):\n",
    "    return np.piecewise(x,[x<0, x>=0],[0, lambda x:x])"
   ]
  },
  {
   "cell_type": "code",
   "execution_count": 39,
   "metadata": {},
   "outputs": [
    {
     "data": {
      "text/plain": [
       "[<matplotlib.lines.Line2D at 0x7fb4bc2ed100>]"
      ]
     },
     "execution_count": 39,
     "metadata": {},
     "output_type": "execute_result"
    },
    {
     "data": {
      "image/png": "[encoded data removed]",
      "text/plain": [
       "<Figure size 432x288 with 1 Axes>"
      ]
     },
     "metadata": {
      "needs_background": "light"
     },
     "output_type": "display_data"
    }
   ],
   "source": [
    "x = np.linspace(-10,10,51)\n",
    "y = sigmoid(x)\n",
    "plt.plot(x,y)"
   ]
  },
  {
   "cell_type": "code",
   "execution_count": 58,
   "metadata": {},
   "outputs": [
    {
     "name": "stdout",
     "output_type": "stream",
     "text": [
      "0.0\n"
     ]
    }
   ],
   "source": [
    "print(step(np.array(-10)))"
   ]
  },
  {
   "cell_type": "code",
   "execution_count": 69,
   "metadata": {},
   "outputs": [
    {
     "name": "stdout",
     "output_type": "stream",
     "text": [
      "[ 0.   1.  10.   0.   5.5]\n"
     ]
    }
   ],
   "source": [
    "print(relu2(np.array([-1,1,10,-4,5.5])))"
   ]
  },
  {
   "cell_type": "markdown",
   "metadata": {},
   "source": [
    "**Loss function**\n",
    "\n",
    "Mide el error entre la predicción y el valor real.\n",
    "\n",
    "$MSE = \\frac{1}{n}\\sum(y-y')^2$ -> Error cuadratico medio\n",
    "\n",
    "$Cross \\, entropy = -\\sum_x p(x) log (q(x))$"
   ]
  },
  {
   "cell_type": "code",
   "execution_count": 70,
   "metadata": {},
   "outputs": [],
   "source": [
    "def mse(y,y_hat):\n",
    "  return np.mean((y-y_hat)**2)"
   ]
  },
  {
   "cell_type": "code",
   "execution_count": 72,
   "metadata": {},
   "outputs": [
    {
     "name": "stdout",
     "output_type": "stream",
     "text": [
      "0.095\n"
     ]
    }
   ],
   "source": [
    "y = np.array([0,0,0.1,0.5])\n",
    "y_hat = np.array([0.3, 0.2, 0.1, 0])\n",
    "print(mse(y, y_hat))"
   ]
  },
  {
   "cell_type": "markdown",
   "metadata": {},
   "source": [
    "**Gradient Descent**\n",
    "\n",
    "repetir:\\\n",
    "  x_aux = x - diff(f(x))\\\n",
    "  condicion de terminación\\\n",
    "  x = x_aux\n",
    "\n",
    "Se utiliza para minimizar el error de la función de pérdida y ajustar los parámetros del modelo\n"
   ]
  },
  {
   "cell_type": "markdown",
   "metadata": {},
   "source": [
    "Ejemplo de una NN from scratch"
   ]
  },
  {
   "cell_type": "code",
   "execution_count": 2,
   "metadata": {},
   "outputs": [],
   "source": [
    "from sklearn.datasets import make_gaussian_quantiles"
   ]
  },
  {
   "cell_type": "code",
   "execution_count": 3,
   "metadata": {},
   "outputs": [],
   "source": [
    "# Se definen los datos se usa una distribución chi2 con labels preestablecidos\n",
    "# https://scikit-learn.org/stable/modules/generated/sklearn.datasets.make_gaussian_quantiles.html\n",
    "N = 1000\n",
    "(X, Y) = make_gaussian_quantiles(\n",
    "  mean=None, \n",
    "  cov=0.1, \n",
    "  n_samples=N, \n",
    "  n_features=2, \n",
    "  n_classes=2, \n",
    "  shuffle=True, \n",
    "  random_state=None)"
   ]
  },
  {
   "cell_type": "code",
   "execution_count": 79,
   "metadata": {},
   "outputs": [
    {
     "data": {
      "text/plain": [
       "array([-0.05796347, -0.05335491])"
      ]
     },
     "execution_count": 79,
     "metadata": {},
     "output_type": "execute_result"
    }
   ],
   "source": [
    "X[0,:]"
   ]
  },
  {
   "cell_type": "code",
   "execution_count": 81,
   "metadata": {},
   "outputs": [
    {
     "data": {
      "text/plain": [
       "array([0, 0, 1, 1, 0, 1, 1, 1, 1, 1])"
      ]
     },
     "execution_count": 81,
     "metadata": {},
     "output_type": "execute_result"
    }
   ],
   "source": [
    "Y[0:10]"
   ]
  },
  {
   "cell_type": "code",
   "execution_count": 4,
   "metadata": {},
   "outputs": [],
   "source": [
    "Y = Y[:, np.newaxis]"
   ]
  },
  {
   "cell_type": "code",
   "execution_count": 83,
   "metadata": {},
   "outputs": [
    {
     "data": {
      "text/plain": [
       "(1000, 1)"
      ]
     },
     "execution_count": 83,
     "metadata": {},
     "output_type": "execute_result"
    }
   ],
   "source": [
    "Y.shape"
   ]
  },
  {
   "cell_type": "code",
   "execution_count": 5,
   "metadata": {},
   "outputs": [
    {
     "data": {
      "text/plain": [
       "<matplotlib.collections.PathCollection at 0x7f504d49f340>"
      ]
     },
     "execution_count": 5,
     "metadata": {},
     "output_type": "execute_result"
    },
    {
     "data": {
      "image/png": "[encoded data removed]",
      "text/plain": [
       "<Figure size 432x288 with 1 Axes>"
      ]
     },
     "metadata": {
      "needs_background": "light"
     },
     "output_type": "display_data"
    }
   ],
   "source": [
    "plt.scatter(X[:,0], X[:,1], c=Y[:], s=5)"
   ]
  },
  {
   "cell_type": "markdown",
   "metadata": {},
   "source": [
    "Funciones de activación"
   ]
  },
  {
   "cell_type": "code",
   "execution_count": 6,
   "metadata": {},
   "outputs": [],
   "source": [
    "def sigmoid(x, derivate=False):\n",
    "  if derivate:\n",
    "    return sigmoid(x)*(1-sigmoid(x))\n",
    "  else:\n",
    "    return (1)/(1+np.exp(-x))\n",
    "\n",
    "def relu(x, derivate=False):\n",
    "  if derivate:\n",
    "    x[x<0] = 0\n",
    "    x[x>=0] = x[x>=0]\n",
    "    return x\n",
    "  else:\n",
    "    # np.maximun()\n",
    "    x[x<0] = 0\n",
    "    x[x>=0] = x[x>=0]\n",
    "    return x\n"
   ]
  },
  {
   "cell_type": "markdown",
   "metadata": {},
   "source": [
    "Función de pérdida"
   ]
  },
  {
   "cell_type": "code",
   "execution_count": 16,
   "metadata": {},
   "outputs": [],
   "source": [
    "def mse(y,y_hat, derivate=False):\n",
    "  if derivate:\n",
    "    return 2*(y_hat - y)\n",
    "  else: \n",
    "    return np.mean((y-y_hat)**2)"
   ]
  },
  {
   "cell_type": "markdown",
   "metadata": {},
   "source": [
    "Inicialización de parametros para la NN\\\n",
    "\n",
    "De forma aleatoria se generan los valores de los pesos para cada neurona\n",
    "\n",
    "e.g: Para una arquitectura de 2 caracteristicas - capa 1 (4 neuronas) - capa salida (1 neurona)\n",
    "\n",
    "$[1, 2]$ * $[2,4]$ + $[1,4]$\\\n",
    "x1,x2 * W_L1 + b_L1 = [x1*w11+x2*w11+b11,...,x1*w41+x2*w41+b41]\n",
    "\n",
    "$[1, 4]$ * $[4,1]$ + $[1]$\n"
   ]
  },
  {
   "cell_type": "markdown",
   "metadata": {},
   "source": [
    "<img src='pics/NN.png' width='600'>"
   ]
  },
  {
   "cell_type": "code",
   "execution_count": 8,
   "metadata": {},
   "outputs": [],
   "source": [
    "def params_init(dims):\n",
    "  params = dict()\n",
    "  L = len(dims)\n",
    "  for l in range(0, L-1):\n",
    "    params['W'+str(l+1)] = (np.random.rand(dims[l],dims[l+1])*2)-1\n",
    "    params['b'+str(l+1)] = (np.random.rand(1,dims[l+1])*2)-1\n",
    "  return params"
   ]
  },
  {
   "cell_type": "code",
   "execution_count": 117,
   "metadata": {},
   "outputs": [],
   "source": [
    "import timeit"
   ]
  },
  {
   "cell_type": "code",
   "execution_count": 136,
   "metadata": {},
   "outputs": [],
   "source": [
    "params = params_init([2,4,8,1])"
   ]
  },
  {
   "cell_type": "code",
   "execution_count": 120,
   "metadata": {},
   "outputs": [
    {
     "name": "stdout",
     "output_type": "stream",
     "text": [
      "5.19 µs ± 106 ns per loop (mean ± std. dev. of 7 runs, 100,000 loops each)\n"
     ]
    }
   ],
   "source": [
    "%%timeit\n",
    "np.matmul(X,params['W1'])"
   ]
  },
  {
   "cell_type": "code",
   "execution_count": 121,
   "metadata": {},
   "outputs": [
    {
     "name": "stdout",
     "output_type": "stream",
     "text": [
      "4.62 µs ± 186 ns per loop (mean ± std. dev. of 7 runs, 100,000 loops each)\n"
     ]
    }
   ],
   "source": [
    "%%timeit\n",
    "X.dot(params['W1'])"
   ]
  },
  {
   "cell_type": "code",
   "execution_count": 122,
   "metadata": {},
   "outputs": [
    {
     "name": "stdout",
     "output_type": "stream",
     "text": [
      "5.15 µs ± 58.8 ns per loop (mean ± std. dev. of 7 runs, 100,000 loops each)\n"
     ]
    }
   ],
   "source": [
    "%%timeit\n",
    "X@params['W1']"
   ]
  },
  {
   "cell_type": "markdown",
   "metadata": {},
   "source": [
    "Forward propagation"
   ]
  },
  {
   "cell_type": "code",
   "execution_count": 137,
   "metadata": {},
   "outputs": [],
   "source": [
    "params['A0'] = X\n",
    "params['Z1'] = params['A0'].dot(params['W1'])+params['b1']\n",
    "params['A1'] = relu(params['Z1'])\n",
    "\n",
    "params['Z2'] = params['A1'].dot(params['W2'])+params['b2']\n",
    "params['A2'] = relu(params['Z2'])\n",
    "\n",
    "params['Z3'] = params['A2'].dot(params['W3'])+params['b3']\n",
    "params['A3'] = sigmoid(params['Z3'])\n",
    "output = params['A3']"
   ]
  },
  {
   "cell_type": "markdown",
   "metadata": {},
   "source": [
    "Back propagation"
   ]
  },
  {
   "cell_type": "code",
   "execution_count": 142,
   "metadata": {},
   "outputs": [],
   "source": [
    "params['dZ3'] = mse(Y, output, derivate=True)*sigmoid(output,True)\n",
    "params['dW3'] = params['A2'].T.dot(params['dZ3'])\n",
    "\n",
    "params['dZ2'] = (params['dZ3'].dot(params['W3'].T))*relu(params['A2'],True)\n",
    "params['dW2'] = params['A1'].T.dot(params['dZ2'])\n",
    "\n",
    "params['dZ1'] = (params['dZ2'].dot(params['W2'].T))*relu(params['A1'],True)\n",
    "params['dW1'] = params['A0'].T.dot(params['dZ1'])"
   ]
  },
  {
   "cell_type": "markdown",
   "metadata": {},
   "source": [
    "Gradient decent"
   ]
  },
  {
   "cell_type": "code",
   "execution_count": 143,
   "metadata": {},
   "outputs": [],
   "source": [
    "alpha = 0.001\n",
    "params['W3'] = params['W3'] - params['dW3']*alpha\n",
    "params['b3'] = params['b3'] - (np.mean(params['dZ3'], axis=0, keepdims=True))*alpha\n",
    "\n",
    "params['W2'] = params['W2'] - params['dW2']*alpha\n",
    "params['b2'] = params['b2'] - (np.mean(params['dZ2'], axis=0, keepdims=True))*alpha\n",
    "\n",
    "params['W1'] = params['W1'] - params['dW1']*alpha\n",
    "params['b1'] = params['b1'] - (np.mean(params['dZ1'], axis=0, keepdims=True))*alpha\n"
   ]
  },
  {
   "cell_type": "code",
   "execution_count": 19,
   "metadata": {},
   "outputs": [],
   "source": [
    "def train_nn(x_train, y_train, params, alpha, do_train=True):\n",
    "  params['A0'] = x_train\n",
    "  params['Z1'] = params['A0'].dot(params['W1'])+params['b1']\n",
    "  params['A1'] = relu(params['Z1'])\n",
    "  params['Z2'] = params['A1'].dot(params['W2'])+params['b2']\n",
    "  params['A2'] = relu(params['Z2'])\n",
    "  params['Z3'] = params['A2'].dot(params['W3'])+params['b3']\n",
    "  params['A3'] = sigmoid(params['Z3'])\n",
    "  output = params['A3']\n",
    "\n",
    "  if do_train:\n",
    "    params['dZ3'] = mse(Y, output, derivate=True)*sigmoid(output,True)\n",
    "    params['dW3'] = params['A2'].T.dot(params['dZ3'])\n",
    "    params['dZ2'] = (params['dZ3'].dot(params['W3'].T))*relu(params['A2'],True)\n",
    "    params['dW2'] = params['A1'].T.dot(params['dZ2'])\n",
    "    params['dZ1'] = (params['dZ2'].dot(params['W2'].T))*relu(params['A1'],True)\n",
    "    params['dW1'] = params['A0'].T.dot(params['dZ1'])\n",
    "\n",
    "    params['W3'] = params['W3'] - params['dW3']*alpha\n",
    "    params['b3'] = params['b3'] - (np.mean(params['dZ3'], axis=0, keepdims=True))*alpha\n",
    "    params['W2'] = params['W2'] - params['dW2']*alpha\n",
    "    params['b2'] = params['b2'] - (np.mean(params['dZ2'], axis=0, keepdims=True))*alpha\n",
    "    params['W1'] = params['W1'] - params['dW1']*alpha\n",
    "    params['b1'] = params['b1'] - (np.mean(params['dZ1'], axis=0, keepdims=True))*alpha\n",
    "  return output"
   ]
  },
  {
   "cell_type": "code",
   "execution_count": 95,
   "metadata": {},
   "outputs": [
    {
     "data": {
      "text/plain": [
       "array([-0.33153535, -0.67833811, -0.17505779, -0.79519017])"
      ]
     },
     "execution_count": 95,
     "metadata": {},
     "output_type": "execute_result"
    }
   ],
   "source": [
    "params = params_init([2,4,8,1])\n",
    "errors = []\n",
    "params['W1'][0]"
   ]
  },
  {
   "cell_type": "code",
   "execution_count": 96,
   "metadata": {},
   "outputs": [],
   "source": [
    "for _ in range(10000):\n",
    "  output = train_nn(X, Y, params, 0.0001)\n",
    "  error = mse(Y,output)\n",
    "  if _ < 2:\n",
    "    min_error = mse(Y,output)\n",
    "  else: \n",
    "    if error < min_error:\n",
    "      min_error_params = params\n",
    "      min_error = error\n",
    "  if _ % 10 == 0:\n",
    "    # print(mse(Y,output))\n",
    "    errors.append(mse(Y,output))"
   ]
  },
  {
   "cell_type": "code",
   "execution_count": 97,
   "metadata": {},
   "outputs": [
    {
     "data": {
      "text/plain": [
       "[<matplotlib.lines.Line2D at 0x7f504a4e4e50>]"
      ]
     },
     "execution_count": 97,
     "metadata": {},
     "output_type": "execute_result"
    },
    {
     "data": {
      "image/png": "[encoded data removed]",
      "text/plain": [
       "<Figure size 432x288 with 1 Axes>"
      ]
     },
     "metadata": {
      "needs_background": "light"
     },
     "output_type": "display_data"
    }
   ],
   "source": [
    "plt.plot(errors)"
   ]
  },
  {
   "cell_type": "code",
   "execution_count": 98,
   "metadata": {},
   "outputs": [
    {
     "data": {
      "text/plain": [
       "True"
      ]
     },
     "execution_count": 98,
     "metadata": {},
     "output_type": "execute_result"
    }
   ],
   "source": [
    "min_error_params == params"
   ]
  },
  {
   "cell_type": "code",
   "execution_count": 100,
   "metadata": {},
   "outputs": [
    {
     "name": "stdout",
     "output_type": "stream",
     "text": [
      "0.08800269631850952 0.09121465038900047\n"
     ]
    }
   ],
   "source": [
    "print(min_error,error)"
   ]
  },
  {
   "cell_type": "code",
   "execution_count": 101,
   "metadata": {},
   "outputs": [],
   "source": [
    "data_test = (np.random.rand(1000, 2) * 2) - 1\n",
    "y = train_nn(data_test, Y, min_error_params, 0.0001, do_train=False)"
   ]
  },
  {
   "cell_type": "code",
   "execution_count": 102,
   "metadata": {},
   "outputs": [],
   "source": [
    "y = np.where(y >= 0.5, 1, 0)"
   ]
  },
  {
   "cell_type": "code",
   "execution_count": 103,
   "metadata": {},
   "outputs": [
    {
     "data": {
      "text/plain": [
       "<matplotlib.collections.PathCollection at 0x7f504a4aedf0>"
      ]
     },
     "execution_count": 103,
     "metadata": {},
     "output_type": "execute_result"
    },
    {
     "data": {
      "image/png": "[encoded data removed]",
      "text/plain": [
       "<Figure size 432x288 with 1 Axes>"
      ]
     },
     "metadata": {
      "needs_background": "light"
     },
     "output_type": "display_data"
    }
   ],
   "source": [
    "plt.scatter(data_test[:,0], data_test[:,1], c=y[:,0] ,s=10, cmap=plt.cm.Spectral)"
   ]
  }
 ],
 "metadata": {
  "kernelspec": {
   "display_name": "Python 3.8.10 64-bit",
   "language": "python",
   "name": "python3"
  },
  "language_info": {
   "codemirror_mode": {
    "name": "ipython",
    "version": 3
   },
   "file_extension": ".py",
   "mimetype": "text/x-python",
   "name": "python",
   "nbconvert_exporter": "python",
   "pygments_lexer": "ipython3",
   "version": "3.8.10"
  },
  "orig_nbformat": 4,
  "vscode": {
   "interpreter": {
    "hash": "e7370f93d1d0cde622a1f8e1c04877d8463912d04d973331ad4851f04de6915a"
   }
  }
 },
 "nbformat": 4,
 "nbformat_minor": 2
}
